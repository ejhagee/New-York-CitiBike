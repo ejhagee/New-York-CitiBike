{
 "cells": [
  {
   "cell_type": "markdown",
   "metadata": {},
   "source": [
    "# New York CitiBike\n",
    "\n",
    "#### Description\n",
    "The New York CitiBike program is the largest bicycle sharing service in the United States.  Each month, the city makes the raw data of all rides taken in that month available.  This data is available for developers, but the city itself seems to not publish analysis.\n",
    "\n",
    "Ultimately, this project aims to create visualizations and summaries using the Tableau software package.  However, these individual monthly files are of course large and likely unworkable in Tableau.  Therefore, this notebook is used to perform cleaning operations to produce csv files that can be easily used in Tableau.\n",
    "\n",
    "Ultimately, the goal is to summarize ride data for the past two years (2017/2018)."
   ]
  },
  {
   "cell_type": "markdown",
   "metadata": {},
   "source": [
    "#### Load Packages\n",
    "\n",
    "First, we must load in useful packages such as os and Pandas."
   ]
  },
  {
   "cell_type": "code",
   "execution_count": 1,
   "metadata": {},
   "outputs": [],
   "source": [
    "#import packages\n",
    "import os\n",
    "import numpy as np\n",
    "import pandas as pd"
   ]
  },
  {
   "cell_type": "markdown",
   "metadata": {},
   "source": [
    "#### Save file reference\n",
    "\n",
    "We will save a reference to the data file."
   ]
  },
  {
   "cell_type": "code",
   "execution_count": 2,
   "metadata": {},
   "outputs": [],
   "source": [
    "#create file path\n",
    "filepath = os.path.join('..', 'data')"
   ]
  },
  {
   "cell_type": "markdown",
   "metadata": {},
   "source": [
    "#### Explore one file\n",
    "\n",
    "In the interests of development, we will start with exploring one file, hoping to develop a method (or methods) that summarizes data for a single month."
   ]
  },
  {
   "cell_type": "code",
   "execution_count": 3,
   "metadata": {},
   "outputs": [],
   "source": [
    "#get one file\n",
    "file = os.path.join(filepath, 'JC-201812-citibike-tripdata.csv')"
   ]
  },
  {
   "cell_type": "code",
   "execution_count": 4,
   "metadata": {},
   "outputs": [],
   "source": [
    "#read in file\n",
    "test_data = pd.read_csv(file)"
   ]
  },
  {
   "cell_type": "code",
   "execution_count": 5,
   "metadata": {},
   "outputs": [
    {
     "data": {
      "text/html": [
       "<div>\n",
       "<style scoped>\n",
       "    .dataframe tbody tr th:only-of-type {\n",
       "        vertical-align: middle;\n",
       "    }\n",
       "\n",
       "    .dataframe tbody tr th {\n",
       "        vertical-align: top;\n",
       "    }\n",
       "\n",
       "    .dataframe thead th {\n",
       "        text-align: right;\n",
       "    }\n",
       "</style>\n",
       "<table border=\"1\" class=\"dataframe\">\n",
       "  <thead>\n",
       "    <tr style=\"text-align: right;\">\n",
       "      <th></th>\n",
       "      <th>tripduration</th>\n",
       "      <th>starttime</th>\n",
       "      <th>stoptime</th>\n",
       "      <th>start station id</th>\n",
       "      <th>start station name</th>\n",
       "      <th>start station latitude</th>\n",
       "      <th>start station longitude</th>\n",
       "      <th>end station id</th>\n",
       "      <th>end station name</th>\n",
       "      <th>end station latitude</th>\n",
       "      <th>end station longitude</th>\n",
       "      <th>bikeid</th>\n",
       "      <th>usertype</th>\n",
       "      <th>birth year</th>\n",
       "      <th>gender</th>\n",
       "    </tr>\n",
       "  </thead>\n",
       "  <tbody>\n",
       "    <tr>\n",
       "      <th>0</th>\n",
       "      <td>170</td>\n",
       "      <td>2018-12-01 00:03:53.3860</td>\n",
       "      <td>2018-12-01 00:06:43.7160</td>\n",
       "      <td>3183</td>\n",
       "      <td>Exchange Place</td>\n",
       "      <td>40.716247</td>\n",
       "      <td>-74.033459</td>\n",
       "      <td>3214</td>\n",
       "      <td>Essex Light Rail</td>\n",
       "      <td>40.712774</td>\n",
       "      <td>-74.036486</td>\n",
       "      <td>26261</td>\n",
       "      <td>Subscriber</td>\n",
       "      <td>1975</td>\n",
       "      <td>1</td>\n",
       "    </tr>\n",
       "    <tr>\n",
       "      <th>1</th>\n",
       "      <td>172</td>\n",
       "      <td>2018-12-01 00:47:13.7340</td>\n",
       "      <td>2018-12-01 00:50:05.8160</td>\n",
       "      <td>3183</td>\n",
       "      <td>Exchange Place</td>\n",
       "      <td>40.716247</td>\n",
       "      <td>-74.033459</td>\n",
       "      <td>3481</td>\n",
       "      <td>York St</td>\n",
       "      <td>40.716490</td>\n",
       "      <td>-74.041050</td>\n",
       "      <td>26175</td>\n",
       "      <td>Subscriber</td>\n",
       "      <td>1988</td>\n",
       "      <td>1</td>\n",
       "    </tr>\n",
       "    <tr>\n",
       "      <th>2</th>\n",
       "      <td>247</td>\n",
       "      <td>2018-12-01 00:48:57.6960</td>\n",
       "      <td>2018-12-01 00:53:05.6780</td>\n",
       "      <td>3183</td>\n",
       "      <td>Exchange Place</td>\n",
       "      <td>40.716247</td>\n",
       "      <td>-74.033459</td>\n",
       "      <td>3267</td>\n",
       "      <td>Morris Canal</td>\n",
       "      <td>40.712419</td>\n",
       "      <td>-74.038526</td>\n",
       "      <td>29255</td>\n",
       "      <td>Subscriber</td>\n",
       "      <td>1990</td>\n",
       "      <td>1</td>\n",
       "    </tr>\n",
       "    <tr>\n",
       "      <th>3</th>\n",
       "      <td>406</td>\n",
       "      <td>2018-12-01 01:33:53.6630</td>\n",
       "      <td>2018-12-01 01:40:39.7480</td>\n",
       "      <td>3183</td>\n",
       "      <td>Exchange Place</td>\n",
       "      <td>40.716247</td>\n",
       "      <td>-74.033459</td>\n",
       "      <td>3638</td>\n",
       "      <td>Washington St</td>\n",
       "      <td>40.724294</td>\n",
       "      <td>-74.035483</td>\n",
       "      <td>29275</td>\n",
       "      <td>Subscriber</td>\n",
       "      <td>1995</td>\n",
       "      <td>1</td>\n",
       "    </tr>\n",
       "    <tr>\n",
       "      <th>4</th>\n",
       "      <td>354</td>\n",
       "      <td>2018-12-01 06:26:52.5120</td>\n",
       "      <td>2018-12-01 06:32:46.5170</td>\n",
       "      <td>3183</td>\n",
       "      <td>Exchange Place</td>\n",
       "      <td>40.716247</td>\n",
       "      <td>-74.033459</td>\n",
       "      <td>3211</td>\n",
       "      <td>Newark Ave</td>\n",
       "      <td>40.721525</td>\n",
       "      <td>-74.046305</td>\n",
       "      <td>29658</td>\n",
       "      <td>Subscriber</td>\n",
       "      <td>1976</td>\n",
       "      <td>1</td>\n",
       "    </tr>\n",
       "  </tbody>\n",
       "</table>\n",
       "</div>"
      ],
      "text/plain": [
       "   tripduration                 starttime                  stoptime  \\\n",
       "0           170  2018-12-01 00:03:53.3860  2018-12-01 00:06:43.7160   \n",
       "1           172  2018-12-01 00:47:13.7340  2018-12-01 00:50:05.8160   \n",
       "2           247  2018-12-01 00:48:57.6960  2018-12-01 00:53:05.6780   \n",
       "3           406  2018-12-01 01:33:53.6630  2018-12-01 01:40:39.7480   \n",
       "4           354  2018-12-01 06:26:52.5120  2018-12-01 06:32:46.5170   \n",
       "\n",
       "   start station id start station name  start station latitude  \\\n",
       "0              3183     Exchange Place               40.716247   \n",
       "1              3183     Exchange Place               40.716247   \n",
       "2              3183     Exchange Place               40.716247   \n",
       "3              3183     Exchange Place               40.716247   \n",
       "4              3183     Exchange Place               40.716247   \n",
       "\n",
       "   start station longitude  end station id  end station name  \\\n",
       "0               -74.033459            3214  Essex Light Rail   \n",
       "1               -74.033459            3481           York St   \n",
       "2               -74.033459            3267      Morris Canal   \n",
       "3               -74.033459            3638     Washington St   \n",
       "4               -74.033459            3211        Newark Ave   \n",
       "\n",
       "   end station latitude  end station longitude  bikeid    usertype  \\\n",
       "0             40.712774             -74.036486   26261  Subscriber   \n",
       "1             40.716490             -74.041050   26175  Subscriber   \n",
       "2             40.712419             -74.038526   29255  Subscriber   \n",
       "3             40.724294             -74.035483   29275  Subscriber   \n",
       "4             40.721525             -74.046305   29658  Subscriber   \n",
       "\n",
       "   birth year  gender  \n",
       "0        1975       1  \n",
       "1        1988       1  \n",
       "2        1990       1  \n",
       "3        1995       1  \n",
       "4        1976       1  "
      ]
     },
     "execution_count": 5,
     "metadata": {},
     "output_type": "execute_result"
    }
   ],
   "source": [
    "#take a look\n",
    "test_data.head()"
   ]
  },
  {
   "cell_type": "markdown",
   "metadata": {},
   "source": [
    "#### Check formatting of older data\n",
    "\n",
    "We should also test the oldest file to see if there has been any change in how the files are formatted."
   ]
  },
  {
   "cell_type": "code",
   "execution_count": 6,
   "metadata": {},
   "outputs": [
    {
     "data": {
      "text/html": [
       "<div>\n",
       "<style scoped>\n",
       "    .dataframe tbody tr th:only-of-type {\n",
       "        vertical-align: middle;\n",
       "    }\n",
       "\n",
       "    .dataframe tbody tr th {\n",
       "        vertical-align: top;\n",
       "    }\n",
       "\n",
       "    .dataframe thead th {\n",
       "        text-align: right;\n",
       "    }\n",
       "</style>\n",
       "<table border=\"1\" class=\"dataframe\">\n",
       "  <thead>\n",
       "    <tr style=\"text-align: right;\">\n",
       "      <th></th>\n",
       "      <th>Trip Duration</th>\n",
       "      <th>Start Time</th>\n",
       "      <th>Stop Time</th>\n",
       "      <th>Start Station ID</th>\n",
       "      <th>Start Station Name</th>\n",
       "      <th>Start Station Latitude</th>\n",
       "      <th>Start Station Longitude</th>\n",
       "      <th>End Station ID</th>\n",
       "      <th>End Station Name</th>\n",
       "      <th>End Station Latitude</th>\n",
       "      <th>End Station Longitude</th>\n",
       "      <th>Bike ID</th>\n",
       "      <th>User Type</th>\n",
       "      <th>Birth Year</th>\n",
       "      <th>Gender</th>\n",
       "    </tr>\n",
       "  </thead>\n",
       "  <tbody>\n",
       "    <tr>\n",
       "      <th>0</th>\n",
       "      <td>148</td>\n",
       "      <td>2017-01-01 00:21:32</td>\n",
       "      <td>2017-01-01 00:24:01</td>\n",
       "      <td>3276</td>\n",
       "      <td>Marin Light Rail</td>\n",
       "      <td>40.714584</td>\n",
       "      <td>-74.042817</td>\n",
       "      <td>3185</td>\n",
       "      <td>City Hall</td>\n",
       "      <td>40.717733</td>\n",
       "      <td>-74.043845</td>\n",
       "      <td>24575</td>\n",
       "      <td>Subscriber</td>\n",
       "      <td>1983.0</td>\n",
       "      <td>1</td>\n",
       "    </tr>\n",
       "    <tr>\n",
       "      <th>1</th>\n",
       "      <td>1283</td>\n",
       "      <td>2017-01-01 00:24:35</td>\n",
       "      <td>2017-01-01 00:45:58</td>\n",
       "      <td>3183</td>\n",
       "      <td>Exchange Place</td>\n",
       "      <td>40.716247</td>\n",
       "      <td>-74.033459</td>\n",
       "      <td>3198</td>\n",
       "      <td>Heights Elevator</td>\n",
       "      <td>40.748716</td>\n",
       "      <td>-74.040443</td>\n",
       "      <td>24723</td>\n",
       "      <td>Subscriber</td>\n",
       "      <td>1978.0</td>\n",
       "      <td>1</td>\n",
       "    </tr>\n",
       "    <tr>\n",
       "      <th>2</th>\n",
       "      <td>372</td>\n",
       "      <td>2017-01-01 00:38:19</td>\n",
       "      <td>2017-01-01 00:44:31</td>\n",
       "      <td>3183</td>\n",
       "      <td>Exchange Place</td>\n",
       "      <td>40.716247</td>\n",
       "      <td>-74.033459</td>\n",
       "      <td>3211</td>\n",
       "      <td>Newark Ave</td>\n",
       "      <td>40.721525</td>\n",
       "      <td>-74.046305</td>\n",
       "      <td>24620</td>\n",
       "      <td>Subscriber</td>\n",
       "      <td>1989.0</td>\n",
       "      <td>1</td>\n",
       "    </tr>\n",
       "    <tr>\n",
       "      <th>3</th>\n",
       "      <td>1513</td>\n",
       "      <td>2017-01-01 00:38:37</td>\n",
       "      <td>2017-01-01 01:03:50</td>\n",
       "      <td>3194</td>\n",
       "      <td>McGinley Square</td>\n",
       "      <td>40.725340</td>\n",
       "      <td>-74.067622</td>\n",
       "      <td>3271</td>\n",
       "      <td>Danforth Light Rail</td>\n",
       "      <td>40.692640</td>\n",
       "      <td>-74.088012</td>\n",
       "      <td>24668</td>\n",
       "      <td>Subscriber</td>\n",
       "      <td>1961.0</td>\n",
       "      <td>1</td>\n",
       "    </tr>\n",
       "    <tr>\n",
       "      <th>4</th>\n",
       "      <td>639</td>\n",
       "      <td>2017-01-01 01:47:52</td>\n",
       "      <td>2017-01-01 01:58:31</td>\n",
       "      <td>3183</td>\n",
       "      <td>Exchange Place</td>\n",
       "      <td>40.716247</td>\n",
       "      <td>-74.033459</td>\n",
       "      <td>3203</td>\n",
       "      <td>Hamilton Park</td>\n",
       "      <td>40.727596</td>\n",
       "      <td>-74.044247</td>\n",
       "      <td>26167</td>\n",
       "      <td>Subscriber</td>\n",
       "      <td>1993.0</td>\n",
       "      <td>1</td>\n",
       "    </tr>\n",
       "  </tbody>\n",
       "</table>\n",
       "</div>"
      ],
      "text/plain": [
       "   Trip Duration           Start Time            Stop Time  Start Station ID  \\\n",
       "0            148  2017-01-01 00:21:32  2017-01-01 00:24:01              3276   \n",
       "1           1283  2017-01-01 00:24:35  2017-01-01 00:45:58              3183   \n",
       "2            372  2017-01-01 00:38:19  2017-01-01 00:44:31              3183   \n",
       "3           1513  2017-01-01 00:38:37  2017-01-01 01:03:50              3194   \n",
       "4            639  2017-01-01 01:47:52  2017-01-01 01:58:31              3183   \n",
       "\n",
       "  Start Station Name  Start Station Latitude  Start Station Longitude  \\\n",
       "0   Marin Light Rail               40.714584               -74.042817   \n",
       "1     Exchange Place               40.716247               -74.033459   \n",
       "2     Exchange Place               40.716247               -74.033459   \n",
       "3    McGinley Square               40.725340               -74.067622   \n",
       "4     Exchange Place               40.716247               -74.033459   \n",
       "\n",
       "   End Station ID     End Station Name  End Station Latitude  \\\n",
       "0            3185            City Hall             40.717733   \n",
       "1            3198     Heights Elevator             40.748716   \n",
       "2            3211           Newark Ave             40.721525   \n",
       "3            3271  Danforth Light Rail             40.692640   \n",
       "4            3203        Hamilton Park             40.727596   \n",
       "\n",
       "   End Station Longitude  Bike ID   User Type  Birth Year  Gender  \n",
       "0             -74.043845    24575  Subscriber      1983.0       1  \n",
       "1             -74.040443    24723  Subscriber      1978.0       1  \n",
       "2             -74.046305    24620  Subscriber      1989.0       1  \n",
       "3             -74.088012    24668  Subscriber      1961.0       1  \n",
       "4             -74.044247    26167  Subscriber      1993.0       1  "
      ]
     },
     "execution_count": 6,
     "metadata": {},
     "output_type": "execute_result"
    }
   ],
   "source": [
    "#create file path\n",
    "old_file = os.path.join(filepath, 'JC-201701-citibike-tripdata.csv')\n",
    "old_data = pd.read_csv(old_file)\n",
    "old_data.head()"
   ]
  },
  {
   "cell_type": "markdown",
   "metadata": {},
   "source": [
    "Looking at this, we see that the main change is that there is now subsecond level data.  This seems to have changed for 2018 data vs. 2017 (by physically looking at files).  As we likely have no need of subsecond precision, we will strip it off if there is a need."
   ]
  },
  {
   "cell_type": "markdown",
   "metadata": {},
   "source": [
    "#### Column List\n",
    "We should also check the column names."
   ]
  },
  {
   "cell_type": "code",
   "execution_count": 7,
   "metadata": {},
   "outputs": [
    {
     "data": {
      "text/plain": [
       "Index(['tripduration', 'starttime', 'stoptime', 'start station id',\n",
       "       'start station name', 'start station latitude',\n",
       "       'start station longitude', 'end station id', 'end station name',\n",
       "       'end station latitude', 'end station longitude', 'bikeid', 'usertype',\n",
       "       'birth year', 'gender'],\n",
       "      dtype='object')"
      ]
     },
     "execution_count": 7,
     "metadata": {},
     "output_type": "execute_result"
    }
   ],
   "source": [
    "test_data.columns"
   ]
  },
  {
   "cell_type": "code",
   "execution_count": 8,
   "metadata": {},
   "outputs": [
    {
     "data": {
      "text/plain": [
       "Index(['Trip Duration', 'Start Time', 'Stop Time', 'Start Station ID',\n",
       "       'Start Station Name', 'Start Station Latitude',\n",
       "       'Start Station Longitude', 'End Station ID', 'End Station Name',\n",
       "       'End Station Latitude', 'End Station Longitude', 'Bike ID', 'User Type',\n",
       "       'Birth Year', 'Gender'],\n",
       "      dtype='object')"
      ]
     },
     "execution_count": 8,
     "metadata": {},
     "output_type": "execute_result"
    }
   ],
   "source": [
    "old_data.columns"
   ]
  },
  {
   "cell_type": "markdown",
   "metadata": {},
   "source": [
    "We see that we have the same columns but slightly different name formatting.  We will assign the names to be the same."
   ]
  },
  {
   "cell_type": "code",
   "execution_count": 9,
   "metadata": {},
   "outputs": [
    {
     "data": {
      "text/plain": [
       "Index(['tripduration', 'starttime', 'stoptime', 'start station id',\n",
       "       'start station name', 'start station latitude',\n",
       "       'start station longitude', 'end station id', 'end station name',\n",
       "       'end station latitude', 'end station longitude', 'bikeid', 'usertype',\n",
       "       'birth year', 'gender'],\n",
       "      dtype='object')"
      ]
     },
     "execution_count": 9,
     "metadata": {},
     "output_type": "execute_result"
    }
   ],
   "source": [
    "#reassign columns\n",
    "old_data.columns = test_data.columns\n",
    "old_data.columns"
   ]
  },
  {
   "cell_type": "markdown",
   "metadata": {},
   "source": [
    "#### Dates and Times\n",
    "\n",
    "We need to do some string splits to get the dates and times in an easier format."
   ]
  },
  {
   "cell_type": "code",
   "execution_count": 16,
   "metadata": {},
   "outputs": [],
   "source": [
    "#get dates\n",
    "test_data['start_date'] = test_data['starttime'].str.split(' ', expand = True).iloc[:, 0]\n",
    "test_data['stop_date'] = test_data['stoptime'].str.split(' ', expand = True).iloc[:, 0]"
   ]
  },
  {
   "cell_type": "code",
   "execution_count": 18,
   "metadata": {},
   "outputs": [],
   "source": [
    "#get times (remove decimal places)\n",
    "test_data['start_time'] = test_data['starttime'].str.split(' ', expand = True).iloc[:, 1].str.split('.', \n",
    "                                                                                            expand = True).iloc[:, 0]\n",
    "test_data['stop_time'] = test_data['stoptime'].str.split(' ', expand = True).iloc[:, 1].str.split('.', \n",
    "                                                                                            expand = True).iloc[:, 0]"
   ]
  },
  {
   "cell_type": "code",
   "execution_count": 19,
   "metadata": {},
   "outputs": [
    {
     "data": {
      "text/html": [
       "<div>\n",
       "<style scoped>\n",
       "    .dataframe tbody tr th:only-of-type {\n",
       "        vertical-align: middle;\n",
       "    }\n",
       "\n",
       "    .dataframe tbody tr th {\n",
       "        vertical-align: top;\n",
       "    }\n",
       "\n",
       "    .dataframe thead th {\n",
       "        text-align: right;\n",
       "    }\n",
       "</style>\n",
       "<table border=\"1\" class=\"dataframe\">\n",
       "  <thead>\n",
       "    <tr style=\"text-align: right;\">\n",
       "      <th></th>\n",
       "      <th>tripduration</th>\n",
       "      <th>starttime</th>\n",
       "      <th>stoptime</th>\n",
       "      <th>start station id</th>\n",
       "      <th>start station name</th>\n",
       "      <th>start station latitude</th>\n",
       "      <th>start station longitude</th>\n",
       "      <th>end station id</th>\n",
       "      <th>end station name</th>\n",
       "      <th>end station latitude</th>\n",
       "      <th>end station longitude</th>\n",
       "      <th>bikeid</th>\n",
       "      <th>usertype</th>\n",
       "      <th>birth year</th>\n",
       "      <th>gender</th>\n",
       "      <th>start_date</th>\n",
       "      <th>stop_date</th>\n",
       "      <th>start_time</th>\n",
       "      <th>stop_time</th>\n",
       "    </tr>\n",
       "  </thead>\n",
       "  <tbody>\n",
       "    <tr>\n",
       "      <th>0</th>\n",
       "      <td>170</td>\n",
       "      <td>2018-12-01 00:03:53.3860</td>\n",
       "      <td>2018-12-01 00:06:43.7160</td>\n",
       "      <td>3183</td>\n",
       "      <td>Exchange Place</td>\n",
       "      <td>40.716247</td>\n",
       "      <td>-74.033459</td>\n",
       "      <td>3214</td>\n",
       "      <td>Essex Light Rail</td>\n",
       "      <td>40.712774</td>\n",
       "      <td>-74.036486</td>\n",
       "      <td>26261</td>\n",
       "      <td>Subscriber</td>\n",
       "      <td>1975</td>\n",
       "      <td>1</td>\n",
       "      <td>2018-12-01</td>\n",
       "      <td>2018-12-01</td>\n",
       "      <td>00:03:53</td>\n",
       "      <td>00:06:43</td>\n",
       "    </tr>\n",
       "    <tr>\n",
       "      <th>1</th>\n",
       "      <td>172</td>\n",
       "      <td>2018-12-01 00:47:13.7340</td>\n",
       "      <td>2018-12-01 00:50:05.8160</td>\n",
       "      <td>3183</td>\n",
       "      <td>Exchange Place</td>\n",
       "      <td>40.716247</td>\n",
       "      <td>-74.033459</td>\n",
       "      <td>3481</td>\n",
       "      <td>York St</td>\n",
       "      <td>40.716490</td>\n",
       "      <td>-74.041050</td>\n",
       "      <td>26175</td>\n",
       "      <td>Subscriber</td>\n",
       "      <td>1988</td>\n",
       "      <td>1</td>\n",
       "      <td>2018-12-01</td>\n",
       "      <td>2018-12-01</td>\n",
       "      <td>00:47:13</td>\n",
       "      <td>00:50:05</td>\n",
       "    </tr>\n",
       "    <tr>\n",
       "      <th>2</th>\n",
       "      <td>247</td>\n",
       "      <td>2018-12-01 00:48:57.6960</td>\n",
       "      <td>2018-12-01 00:53:05.6780</td>\n",
       "      <td>3183</td>\n",
       "      <td>Exchange Place</td>\n",
       "      <td>40.716247</td>\n",
       "      <td>-74.033459</td>\n",
       "      <td>3267</td>\n",
       "      <td>Morris Canal</td>\n",
       "      <td>40.712419</td>\n",
       "      <td>-74.038526</td>\n",
       "      <td>29255</td>\n",
       "      <td>Subscriber</td>\n",
       "      <td>1990</td>\n",
       "      <td>1</td>\n",
       "      <td>2018-12-01</td>\n",
       "      <td>2018-12-01</td>\n",
       "      <td>00:48:57</td>\n",
       "      <td>00:53:05</td>\n",
       "    </tr>\n",
       "    <tr>\n",
       "      <th>3</th>\n",
       "      <td>406</td>\n",
       "      <td>2018-12-01 01:33:53.6630</td>\n",
       "      <td>2018-12-01 01:40:39.7480</td>\n",
       "      <td>3183</td>\n",
       "      <td>Exchange Place</td>\n",
       "      <td>40.716247</td>\n",
       "      <td>-74.033459</td>\n",
       "      <td>3638</td>\n",
       "      <td>Washington St</td>\n",
       "      <td>40.724294</td>\n",
       "      <td>-74.035483</td>\n",
       "      <td>29275</td>\n",
       "      <td>Subscriber</td>\n",
       "      <td>1995</td>\n",
       "      <td>1</td>\n",
       "      <td>2018-12-01</td>\n",
       "      <td>2018-12-01</td>\n",
       "      <td>01:33:53</td>\n",
       "      <td>01:40:39</td>\n",
       "    </tr>\n",
       "    <tr>\n",
       "      <th>4</th>\n",
       "      <td>354</td>\n",
       "      <td>2018-12-01 06:26:52.5120</td>\n",
       "      <td>2018-12-01 06:32:46.5170</td>\n",
       "      <td>3183</td>\n",
       "      <td>Exchange Place</td>\n",
       "      <td>40.716247</td>\n",
       "      <td>-74.033459</td>\n",
       "      <td>3211</td>\n",
       "      <td>Newark Ave</td>\n",
       "      <td>40.721525</td>\n",
       "      <td>-74.046305</td>\n",
       "      <td>29658</td>\n",
       "      <td>Subscriber</td>\n",
       "      <td>1976</td>\n",
       "      <td>1</td>\n",
       "      <td>2018-12-01</td>\n",
       "      <td>2018-12-01</td>\n",
       "      <td>06:26:52</td>\n",
       "      <td>06:32:46</td>\n",
       "    </tr>\n",
       "  </tbody>\n",
       "</table>\n",
       "</div>"
      ],
      "text/plain": [
       "   tripduration                 starttime                  stoptime  \\\n",
       "0           170  2018-12-01 00:03:53.3860  2018-12-01 00:06:43.7160   \n",
       "1           172  2018-12-01 00:47:13.7340  2018-12-01 00:50:05.8160   \n",
       "2           247  2018-12-01 00:48:57.6960  2018-12-01 00:53:05.6780   \n",
       "3           406  2018-12-01 01:33:53.6630  2018-12-01 01:40:39.7480   \n",
       "4           354  2018-12-01 06:26:52.5120  2018-12-01 06:32:46.5170   \n",
       "\n",
       "   start station id start station name  start station latitude  \\\n",
       "0              3183     Exchange Place               40.716247   \n",
       "1              3183     Exchange Place               40.716247   \n",
       "2              3183     Exchange Place               40.716247   \n",
       "3              3183     Exchange Place               40.716247   \n",
       "4              3183     Exchange Place               40.716247   \n",
       "\n",
       "   start station longitude  end station id  end station name  \\\n",
       "0               -74.033459            3214  Essex Light Rail   \n",
       "1               -74.033459            3481           York St   \n",
       "2               -74.033459            3267      Morris Canal   \n",
       "3               -74.033459            3638     Washington St   \n",
       "4               -74.033459            3211        Newark Ave   \n",
       "\n",
       "   end station latitude  end station longitude  bikeid    usertype  \\\n",
       "0             40.712774             -74.036486   26261  Subscriber   \n",
       "1             40.716490             -74.041050   26175  Subscriber   \n",
       "2             40.712419             -74.038526   29255  Subscriber   \n",
       "3             40.724294             -74.035483   29275  Subscriber   \n",
       "4             40.721525             -74.046305   29658  Subscriber   \n",
       "\n",
       "   birth year  gender  start_date   stop_date start_time stop_time  \n",
       "0        1975       1  2018-12-01  2018-12-01   00:03:53  00:06:43  \n",
       "1        1988       1  2018-12-01  2018-12-01   00:47:13  00:50:05  \n",
       "2        1990       1  2018-12-01  2018-12-01   00:48:57  00:53:05  \n",
       "3        1995       1  2018-12-01  2018-12-01   01:33:53  01:40:39  \n",
       "4        1976       1  2018-12-01  2018-12-01   06:26:52  06:32:46  "
      ]
     },
     "execution_count": 19,
     "metadata": {},
     "output_type": "execute_result"
    }
   ],
   "source": [
    "#look at result\n",
    "test_data.head()"
   ]
  },
  {
   "cell_type": "markdown",
   "metadata": {},
   "source": [
    "#### Station List\n",
    "\n",
    "One task we have is to extract a list of all stations.  We will attempt this with the most recent data.\n",
    "\n",
    "We would like counts of the people who leave from each station."
   ]
  },
  {
   "cell_type": "code",
   "execution_count": 34,
   "metadata": {},
   "outputs": [],
   "source": [
    "#group by start station id and start_date\n",
    "grouped_by_start = test_data.groupby(['start station id'])"
   ]
  },
  {
   "cell_type": "code",
   "execution_count": 36,
   "metadata": {},
   "outputs": [
    {
     "data": {
      "text/plain": [
       "start station id\n",
       "3183             Exchange Place\n",
       "3184                Paulus Hook\n",
       "3185                  City Hall\n",
       "3186              Grove St PATH\n",
       "3187                  Warren St\n",
       "3191                   Union St\n",
       "3192         Liberty Light Rail\n",
       "3193               Lincoln Park\n",
       "3194            McGinley Square\n",
       "3195                    Sip Ave\n",
       "3196             Riverview Park\n",
       "3198           Heights Elevator\n",
       "3199               Newport Pkwy\n",
       "3201                     Dey St\n",
       "3202               Newport PATH\n",
       "3203              Hamilton Park\n",
       "3205          JC Medical Center\n",
       "3206                    Hilltop\n",
       "3207                Oakland Ave\n",
       "3209               Brunswick St\n",
       "3210             Pershing Field\n",
       "3211                 Newark Ave\n",
       "3212            Christ Hospital\n",
       "3213             Van Vorst Park\n",
       "3214           Essex Light Rail\n",
       "3220          5 Corners Library\n",
       "3225      Baldwin at Montgomery\n",
       "3267               Morris Canal\n",
       "3268             Lafayette Park\n",
       "3269            Brunswick & 6th\n",
       "3270            Jersey & 6th St\n",
       "3272               Jersey & 3rd\n",
       "3273               Manila & 1st\n",
       "3275             Columbus Drive\n",
       "3276           Marin Light Rail\n",
       "3277    Communipaw & Berry Lane\n",
       "3278           Monmouth and 6th\n",
       "3279                Dixon Mills\n",
       "3280                Astor Place\n",
       "3281        Leonard Gordon Park\n",
       "3426                 JCBS Depot\n",
       "3481                    York St\n",
       "3483              Montgomery St\n",
       "3638              Washington St\n",
       "3639                 Harborside\n",
       "3640             Journal Square\n",
       "3677               Glenwood Ave\n",
       "3678              Fairmount Ave\n",
       "3679                 Bergen Ave\n",
       "3681                   Grand St\n",
       "3694             Jackson Square\n",
       "Name: start station name, dtype: object"
      ]
     },
     "execution_count": 36,
     "metadata": {},
     "output_type": "execute_result"
    }
   ],
   "source": [
    "#look at names\n",
    "start_stations = grouped_by_start['start station name'].first()\n",
    "start_stations"
   ]
  },
  {
   "cell_type": "code",
   "execution_count": 39,
   "metadata": {},
   "outputs": [
    {
     "data": {
      "text/plain": [
       "start station id\n",
       "3183     904\n",
       "3184     355\n",
       "3185     481\n",
       "3186    2535\n",
       "3187     413\n",
       "3191      56\n",
       "3192     332\n",
       "3193     145\n",
       "3194     357\n",
       "3195    1199\n",
       "3196      82\n",
       "3198     133\n",
       "3199     454\n",
       "3201      46\n",
       "3202     775\n",
       "3203    1185\n",
       "3205     305\n",
       "3206     141\n",
       "3207     315\n",
       "3209     480\n",
       "3210     338\n",
       "3211     516\n",
       "3212     102\n",
       "3213     480\n",
       "3214     319\n",
       "3220     116\n",
       "3225     259\n",
       "3267     485\n",
       "3268     111\n",
       "3269     547\n",
       "3270     513\n",
       "3272     464\n",
       "3273     330\n",
       "3275     408\n",
       "3276     541\n",
       "3277      77\n",
       "3278     435\n",
       "3279     398\n",
       "3280     224\n",
       "3281     158\n",
       "3426       4\n",
       "3481     202\n",
       "3483     263\n",
       "3638     383\n",
       "3639     688\n",
       "3640     423\n",
       "3677      69\n",
       "3678     177\n",
       "3679     145\n",
       "3681     285\n",
       "3694      52\n",
       "Name: start station name, dtype: int64"
      ]
     },
     "execution_count": 39,
     "metadata": {},
     "output_type": "execute_result"
    }
   ],
   "source": [
    "#now lets take a look at the counts\n",
    "start_station_counts = grouped_by_start['start station name'].count()\n",
    "start_station_counts"
   ]
  },
  {
   "cell_type": "markdown",
   "metadata": {},
   "source": [
    "It is also useful to look at end station counts, so we will group by that as well and compute counts."
   ]
  },
  {
   "cell_type": "code",
   "execution_count": 40,
   "metadata": {},
   "outputs": [
    {
     "data": {
      "text/plain": [
       "end station id\n",
       "254        1\n",
       "304        1\n",
       "459        1\n",
       "482        2\n",
       "3002       2\n",
       "3183    1126\n",
       "3184     378\n",
       "3185     574\n",
       "3186    3187\n",
       "3187     462\n",
       "3191      70\n",
       "3192     366\n",
       "3193     175\n",
       "3194     307\n",
       "3195    1139\n",
       "3196      74\n",
       "3198     127\n",
       "3199     454\n",
       "3201      82\n",
       "3202     772\n",
       "3203    1025\n",
       "3205     282\n",
       "3206     108\n",
       "3207     179\n",
       "3209     405\n",
       "3210     298\n",
       "3211     606\n",
       "3212      91\n",
       "3213     404\n",
       "3214     331\n",
       "3220      93\n",
       "3225     235\n",
       "3267     445\n",
       "3268     105\n",
       "3269     435\n",
       "3270     366\n",
       "3272     411\n",
       "3273     448\n",
       "3275     426\n",
       "3276     489\n",
       "3277      65\n",
       "3278     414\n",
       "3279     346\n",
       "3280     223\n",
       "3281     139\n",
       "3426       7\n",
       "3481     192\n",
       "3483     235\n",
       "3638     412\n",
       "3639     701\n",
       "3640     381\n",
       "3677      39\n",
       "3678     126\n",
       "3679     123\n",
       "3681     276\n",
       "3694      44\n",
       "Name: end station name, dtype: int64"
      ]
     },
     "execution_count": 40,
     "metadata": {},
     "output_type": "execute_result"
    }
   ],
   "source": [
    "#group by end station id\n",
    "grouped_by_end = test_data.groupby(['end station id'])\n",
    "\n",
    "#compute counts\n",
    "end_station_counts = grouped_by_end['end station name'].count()\n",
    "\n",
    "#display counts\n",
    "end_station_counts"
   ]
  },
  {
   "cell_type": "markdown",
   "metadata": {},
   "source": [
    "#### Joining Counts\n",
    "\n",
    "It is to our advantage to combine these counts into one dataframe.  First, we will make individual data frames and then join them.  We will need to set nonoccurring counts to 0."
   ]
  },
  {
   "cell_type": "code",
   "execution_count": 43,
   "metadata": {},
   "outputs": [],
   "source": [
    "#Create a dataframe with start counts\n",
    "start_station_df = pd.DataFrame({'start station count': start_station_counts})\n",
    "\n",
    "#create a dataframe with end counts\n",
    "end_station_df = pd.DataFrame({'end station count': end_station_counts})"
   ]
  },
  {
   "cell_type": "code",
   "execution_count": 45,
   "metadata": {},
   "outputs": [],
   "source": [
    "#reset indices\n",
    "start_station_df.reset_index(inplace = True)\n",
    "end_station_df.reset_index(inplace = True)"
   ]
  },
  {
   "cell_type": "code",
   "execution_count": 47,
   "metadata": {},
   "outputs": [],
   "source": [
    "#rename columns\n",
    "start_station_df.columns = ['station id', 'start station count']\n",
    "end_station_df.columns = ['station id', 'end station count']"
   ]
  },
  {
   "cell_type": "code",
   "execution_count": 53,
   "metadata": {},
   "outputs": [
    {
     "data": {
      "text/html": [
       "<div>\n",
       "<style scoped>\n",
       "    .dataframe tbody tr th:only-of-type {\n",
       "        vertical-align: middle;\n",
       "    }\n",
       "\n",
       "    .dataframe tbody tr th {\n",
       "        vertical-align: top;\n",
       "    }\n",
       "\n",
       "    .dataframe thead th {\n",
       "        text-align: right;\n",
       "    }\n",
       "</style>\n",
       "<table border=\"1\" class=\"dataframe\">\n",
       "  <thead>\n",
       "    <tr style=\"text-align: right;\">\n",
       "      <th></th>\n",
       "      <th>station id</th>\n",
       "      <th>start station count</th>\n",
       "      <th>end station count</th>\n",
       "    </tr>\n",
       "  </thead>\n",
       "  <tbody>\n",
       "    <tr>\n",
       "      <th>0</th>\n",
       "      <td>3183</td>\n",
       "      <td>904.0</td>\n",
       "      <td>1126</td>\n",
       "    </tr>\n",
       "    <tr>\n",
       "      <th>1</th>\n",
       "      <td>3184</td>\n",
       "      <td>355.0</td>\n",
       "      <td>378</td>\n",
       "    </tr>\n",
       "    <tr>\n",
       "      <th>2</th>\n",
       "      <td>3185</td>\n",
       "      <td>481.0</td>\n",
       "      <td>574</td>\n",
       "    </tr>\n",
       "    <tr>\n",
       "      <th>3</th>\n",
       "      <td>3186</td>\n",
       "      <td>2535.0</td>\n",
       "      <td>3187</td>\n",
       "    </tr>\n",
       "    <tr>\n",
       "      <th>4</th>\n",
       "      <td>3187</td>\n",
       "      <td>413.0</td>\n",
       "      <td>462</td>\n",
       "    </tr>\n",
       "  </tbody>\n",
       "</table>\n",
       "</div>"
      ],
      "text/plain": [
       "   station id  start station count  end station count\n",
       "0        3183                904.0               1126\n",
       "1        3184                355.0                378\n",
       "2        3185                481.0                574\n",
       "3        3186               2535.0               3187\n",
       "4        3187                413.0                462"
      ]
     },
     "execution_count": 53,
     "metadata": {},
     "output_type": "execute_result"
    }
   ],
   "source": [
    "#join on station id\n",
    "stations_df = start_station_df.merge(end_station_df, on = 'station id', how = 'outer')\n",
    "\n",
    "#make all NaNs zero\n",
    "stations_df = stations_df.fillna(0)\n",
    "\n",
    "#look at data frame\n",
    "stations_df.head()"
   ]
  },
  {
   "cell_type": "markdown",
   "metadata": {},
   "source": [
    "#### Summary of subscriber types, age, user type, trip duration\n",
    "\n",
    "We want to create a monthly summary of various variables like user type (24-hour or 3-day pass), gender, trip duration (minutes), and user age"
   ]
  },
  {
   "cell_type": "code",
   "execution_count": 57,
   "metadata": {},
   "outputs": [
    {
     "data": {
      "text/plain": [
       "count    20205.000000\n",
       "mean         9.350120\n",
       "std        103.255582\n",
       "min          1.016667\n",
       "25%          3.533333\n",
       "50%          5.066667\n",
       "75%          7.933333\n",
       "max       8938.483333\n",
       "Name: duration_min, dtype: float64"
      ]
     },
     "execution_count": 57,
     "metadata": {},
     "output_type": "execute_result"
    }
   ],
   "source": [
    "#trip duration\n",
    "#convert trip duration to minutes for ease of use\n",
    "test_data['duration_min'] = test_data['tripduration']/60\n",
    "\n",
    "#describe it\n",
    "duration_description = test_data['duration_min'].describe()\n",
    "\n",
    "duration_description"
   ]
  },
  {
   "cell_type": "code",
   "execution_count": 58,
   "metadata": {},
   "outputs": [
    {
     "data": {
      "text/plain": [
       "count    20205.000000\n",
       "mean        36.625637\n",
       "std         10.089665\n",
       "min         16.000000\n",
       "25%         29.000000\n",
       "50%         34.000000\n",
       "75%         42.000000\n",
       "max         77.000000\n",
       "Name: age, dtype: float64"
      ]
     },
     "execution_count": 58,
     "metadata": {},
     "output_type": "execute_result"
    }
   ],
   "source": [
    "#age\n",
    "#calculate estimated age as year - birthyear\n",
    "test_data['age'] = 2018 - test_data['birth year']\n",
    "\n",
    "#describe it\n",
    "age_description = test_data['age'].describe()\n",
    "\n",
    "age_description"
   ]
  },
  {
   "cell_type": "code",
   "execution_count": 65,
   "metadata": {},
   "outputs": [
    {
     "data": {
      "text/plain": [
       "1    15161\n",
       "2     4325\n",
       "0      719\n",
       "Name: gender, dtype: int64"
      ]
     },
     "execution_count": 65,
     "metadata": {},
     "output_type": "execute_result"
    }
   ],
   "source": [
    "#gender\n",
    "#get value counts (0 for unknown, 1 for male, 2 for female)\n",
    "gender_counts = test_data['gender'].value_counts()\n",
    "\n",
    "gender_counts"
   ]
  },
  {
   "cell_type": "code",
   "execution_count": 70,
   "metadata": {},
   "outputs": [
    {
     "data": {
      "text/plain": [
       "Subscriber    19614\n",
       "Customer        591\n",
       "Name: usertype, dtype: int64"
      ]
     },
     "execution_count": 70,
     "metadata": {},
     "output_type": "execute_result"
    }
   ],
   "source": [
    "#user type\n",
    "#get value counts (subscribers are annual pass holders, customers hold 24-hour passes or 3-day passes)\n",
    "user_counts = test_data['usertype'].value_counts()\n",
    "\n",
    "user_counts"
   ]
  },
  {
   "cell_type": "markdown",
   "metadata": {},
   "source": [
    "We now have all we need to make a dataframe.  However, we obviously only need some values (for instance we don't need the total count twice).  Also, the minimum and maximum trip durations seem somewhat flukey (problems starting or forgetting to return bike), so we will ignore them.  "
   ]
  },
  {
   "cell_type": "code",
   "execution_count": 74,
   "metadata": {},
   "outputs": [],
   "source": [
    "#create a monthly summary dataframe\n",
    "summary_df = pd.DataFrame({'Month': ['2018-12'], 'Number of Rides': [duration_description['count']],\n",
    "                          'Mean Duration': [duration_description['mean']], '1Q Duration': [duration_description['25%']],\n",
    "                          '3Q Duration': [duration_description['75%']], 'Median Duration': [duration_description['50%']],\n",
    "                          'Mean Age': [age_description['mean']], 'StdDev Age': [age_description['std']],\n",
    "                          'Min Age': [age_description['min']], 'Max Age': [age_description['max']],\n",
    "                          '1Q Age': [age_description['25%']], '3Q Age': [age_description['75%']],\n",
    "                          'Median Age': [age_description['50%']], 'Unknown Gender Users': [gender_counts[0]],\n",
    "                          'Male Users': [gender_counts[1]], 'Female Users': [gender_counts[2]],\n",
    "                          'Short-Term Pass Uses': [user_counts['Customer']], \n",
    "                           'Annual Pass Uses': [user_counts['Subscriber']]})"
   ]
  },
  {
   "cell_type": "code",
   "execution_count": 75,
   "metadata": {},
   "outputs": [
    {
     "data": {
      "text/html": [
       "<div>\n",
       "<style scoped>\n",
       "    .dataframe tbody tr th:only-of-type {\n",
       "        vertical-align: middle;\n",
       "    }\n",
       "\n",
       "    .dataframe tbody tr th {\n",
       "        vertical-align: top;\n",
       "    }\n",
       "\n",
       "    .dataframe thead th {\n",
       "        text-align: right;\n",
       "    }\n",
       "</style>\n",
       "<table border=\"1\" class=\"dataframe\">\n",
       "  <thead>\n",
       "    <tr style=\"text-align: right;\">\n",
       "      <th></th>\n",
       "      <th>Month</th>\n",
       "      <th>Number of Rides</th>\n",
       "      <th>Mean Duration</th>\n",
       "      <th>1Q Duration</th>\n",
       "      <th>3Q Duration</th>\n",
       "      <th>Median Duration</th>\n",
       "      <th>Mean Age</th>\n",
       "      <th>StdDev Age</th>\n",
       "      <th>Min Age</th>\n",
       "      <th>Max Age</th>\n",
       "      <th>1Q Age</th>\n",
       "      <th>3Q Age</th>\n",
       "      <th>Median Age</th>\n",
       "      <th>Unknown Gender Users</th>\n",
       "      <th>Male Users</th>\n",
       "      <th>Female Users</th>\n",
       "      <th>Short-Term Pass Uses</th>\n",
       "      <th>Annual Pass Uses</th>\n",
       "    </tr>\n",
       "  </thead>\n",
       "  <tbody>\n",
       "    <tr>\n",
       "      <th>0</th>\n",
       "      <td>2018-12</td>\n",
       "      <td>20205.0</td>\n",
       "      <td>9.35012</td>\n",
       "      <td>3.533333</td>\n",
       "      <td>7.933333</td>\n",
       "      <td>5.066667</td>\n",
       "      <td>36.625637</td>\n",
       "      <td>10.089665</td>\n",
       "      <td>16.0</td>\n",
       "      <td>77.0</td>\n",
       "      <td>29.0</td>\n",
       "      <td>42.0</td>\n",
       "      <td>34.0</td>\n",
       "      <td>719</td>\n",
       "      <td>15161</td>\n",
       "      <td>4325</td>\n",
       "      <td>591</td>\n",
       "      <td>19614</td>\n",
       "    </tr>\n",
       "  </tbody>\n",
       "</table>\n",
       "</div>"
      ],
      "text/plain": [
       "     Month  Number of Rides  Mean Duration  1Q Duration  3Q Duration  \\\n",
       "0  2018-12          20205.0        9.35012     3.533333     7.933333   \n",
       "\n",
       "   Median Duration   Mean Age  StdDev Age  Min Age  Max Age  1Q Age  3Q Age  \\\n",
       "0         5.066667  36.625637   10.089665     16.0     77.0    29.0    42.0   \n",
       "\n",
       "   Median Age  Unknown Gender Users  Male Users  Female Users  \\\n",
       "0        34.0                   719       15161          4325   \n",
       "\n",
       "   Short-Term Pass Uses  Annual Pass Uses  \n",
       "0                   591             19614  "
      ]
     },
     "execution_count": 75,
     "metadata": {},
     "output_type": "execute_result"
    }
   ],
   "source": [
    "#look at dataframe\n",
    "summary_df"
   ]
  },
  {
   "cell_type": "markdown",
   "metadata": {},
   "source": [
    "#### Starting Hour of the Day\n",
    "We would like to know what time of day people typically use the bikes.\n",
    "\n",
    "To do so, we will strip out the hour and group by it."
   ]
  },
  {
   "cell_type": "code",
   "execution_count": 76,
   "metadata": {},
   "outputs": [],
   "source": [
    "#calculate hour\n",
    "test_data['hour'] = test_data['start_time'].str.split(':', expand = True).iloc[:, 0]"
   ]
  },
  {
   "cell_type": "code",
   "execution_count": 77,
   "metadata": {},
   "outputs": [],
   "source": [
    "#group by hour\n",
    "grouped_by_hour = test_data.groupby('hour')"
   ]
  },
  {
   "cell_type": "code",
   "execution_count": 78,
   "metadata": {},
   "outputs": [],
   "source": [
    "#get counts\n",
    "hour_counts = grouped_by_hour['start_time'].count()"
   ]
  },
  {
   "cell_type": "code",
   "execution_count": 80,
   "metadata": {},
   "outputs": [],
   "source": [
    "#create dataframe\n",
    "hour_df = pd.DataFrame(hour_counts)"
   ]
  },
  {
   "cell_type": "code",
   "execution_count": 81,
   "metadata": {},
   "outputs": [],
   "source": [
    "#reset index\n",
    "hour_df.reset_index(inplace = True)"
   ]
  },
  {
   "cell_type": "code",
   "execution_count": 83,
   "metadata": {},
   "outputs": [
    {
     "data": {
      "text/html": [
       "<div>\n",
       "<style scoped>\n",
       "    .dataframe tbody tr th:only-of-type {\n",
       "        vertical-align: middle;\n",
       "    }\n",
       "\n",
       "    .dataframe tbody tr th {\n",
       "        vertical-align: top;\n",
       "    }\n",
       "\n",
       "    .dataframe thead th {\n",
       "        text-align: right;\n",
       "    }\n",
       "</style>\n",
       "<table border=\"1\" class=\"dataframe\">\n",
       "  <thead>\n",
       "    <tr style=\"text-align: right;\">\n",
       "      <th></th>\n",
       "      <th>Hour</th>\n",
       "      <th>Count</th>\n",
       "    </tr>\n",
       "  </thead>\n",
       "  <tbody>\n",
       "    <tr>\n",
       "      <th>0</th>\n",
       "      <td>00</td>\n",
       "      <td>178</td>\n",
       "    </tr>\n",
       "    <tr>\n",
       "      <th>1</th>\n",
       "      <td>01</td>\n",
       "      <td>109</td>\n",
       "    </tr>\n",
       "    <tr>\n",
       "      <th>2</th>\n",
       "      <td>02</td>\n",
       "      <td>56</td>\n",
       "    </tr>\n",
       "    <tr>\n",
       "      <th>3</th>\n",
       "      <td>03</td>\n",
       "      <td>35</td>\n",
       "    </tr>\n",
       "    <tr>\n",
       "      <th>4</th>\n",
       "      <td>04</td>\n",
       "      <td>69</td>\n",
       "    </tr>\n",
       "  </tbody>\n",
       "</table>\n",
       "</div>"
      ],
      "text/plain": [
       "  Hour  Count\n",
       "0   00    178\n",
       "1   01    109\n",
       "2   02     56\n",
       "3   03     35\n",
       "4   04     69"
      ]
     },
     "execution_count": 83,
     "metadata": {},
     "output_type": "execute_result"
    }
   ],
   "source": [
    "#rename columns and show\n",
    "hour_df.columns = ['Hour', 'Count']\n",
    "hour_df.head()"
   ]
  },
  {
   "cell_type": "code",
   "execution_count": null,
   "metadata": {},
   "outputs": [],
   "source": []
  }
 ],
 "metadata": {
  "kernelspec": {
   "display_name": "Python 3",
   "language": "python",
   "name": "python3"
  },
  "language_info": {
   "codemirror_mode": {
    "name": "ipython",
    "version": 3
   },
   "file_extension": ".py",
   "mimetype": "text/x-python",
   "name": "python",
   "nbconvert_exporter": "python",
   "pygments_lexer": "ipython3",
   "version": "3.6.5"
  }
 },
 "nbformat": 4,
 "nbformat_minor": 2
}
