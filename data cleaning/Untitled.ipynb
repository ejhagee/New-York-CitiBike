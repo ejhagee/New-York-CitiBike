{
 "cells": [
  {
   "cell_type": "markdown",
   "metadata": {},
   "source": [
    "# New York CitiBike\n",
    "\n",
    "#### Description\n",
    "The New York CitiBike program is the largest bicycle sharing service in the United States.  Each month, the city makes the raw data of all rides taken in that month available.  This data is available for developers, but the city itself seems to not publish analysis.\n",
    "\n",
    "Ultimately, this project aims to create visualizations and summaries using the Tableau software package.  However, these individual monthly files are of course large and likely unworkable in Tableau.  Therefore, this notebook is used to perform cleaning operations to produce csv files that can be easily used in Tableau.\n",
    "\n",
    "Ultimately, the goal is to summarize ride data for the past two years (2017/2018)."
   ]
  },
  {
   "cell_type": "markdown",
   "metadata": {},
   "source": [
    "#### Load Packages\n",
    "\n",
    "First, we must load in useful packages such as os and Pandas."
   ]
  },
  {
   "cell_type": "code",
   "execution_count": null,
   "metadata": {},
   "outputs": [],
   "source": []
  }
 ],
 "metadata": {
  "kernelspec": {
   "display_name": "Python 3",
   "language": "python",
   "name": "python3"
  },
  "language_info": {
   "codemirror_mode": {
    "name": "ipython",
    "version": 3
   },
   "file_extension": ".py",
   "mimetype": "text/x-python",
   "name": "python",
   "nbconvert_exporter": "python",
   "pygments_lexer": "ipython3",
   "version": "3.6.5"
  }
 },
 "nbformat": 4,
 "nbformat_minor": 2
}
